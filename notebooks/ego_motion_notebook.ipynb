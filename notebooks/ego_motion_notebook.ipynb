{
 "cells": [
  {
   "cell_type": "code",
   "execution_count": 1,
   "metadata": {},
   "outputs": [
    {
     "name": "stdout",
     "output_type": "stream",
     "text": [
      "cuda\n"
     ]
    }
   ],
   "source": [
    "#Imports, set cuda device, configure tensor board\n",
    "\n",
    "import torch\n",
    "from datasets import MovementDataset\n",
    "from torchvision.transforms import v2, InterpolationMode\n",
    "from modules.ego_motion_filter import EgoMotionFilter\n",
    "from modules.identity import Identity\n",
    "from torch import nn\n",
    "import motion_trainer\n",
    "\n",
    "device = torch.device(\"cuda\" if torch.cuda.is_available() else \"cpu\")\n",
    "print(device)\n",
    "\n",
    "from torch.utils.tensorboard import SummaryWriter\n",
    "import os\n",
    "import shutil\n",
    "\n",
    "\n",
    "TBOARD_LOGS = os.path.join(os.getcwd(), \"tboard_logs\", \"vanilla_dae\")\n",
    "if not os.path.exists(TBOARD_LOGS):\n",
    "    os.makedirs(TBOARD_LOGS)\n",
    "shutil.rmtree(TBOARD_LOGS)\n",
    "writer = SummaryWriter(TBOARD_LOGS)"
   ]
  },
  {
   "cell_type": "code",
   "execution_count": 2,
   "metadata": {},
   "outputs": [
    {
     "data": {
      "text/plain": [
       "EgoMotionFilter(\n",
       "  (motion_estimator): MotionEstimator(\n",
       "    (layer1): Sequential(\n",
       "      (0): Conv2d(4096, 1024, kernel_size=(3, 3), stride=(2, 2), padding=(1, 1))\n",
       "      (1): BatchNorm2d(1024, eps=1e-05, momentum=0.1, affine=True, track_running_stats=True)\n",
       "      (2): ReLU()\n",
       "    )\n",
       "    (layer2): Sequential(\n",
       "      (0): Conv2d(1024, 256, kernel_size=(3, 3), stride=(2, 2), padding=(1, 1))\n",
       "      (1): BatchNorm2d(256, eps=1e-05, momentum=0.1, affine=True, track_running_stats=True)\n",
       "      (2): ReLU()\n",
       "    )\n",
       "    (layer3): Sequential(\n",
       "      (0): Conv2d(256, 128, kernel_size=(3, 3), stride=(2, 2), padding=(1, 1))\n",
       "      (1): BatchNorm2d(128, eps=1e-05, momentum=0.1, affine=True, track_running_stats=True)\n",
       "      (2): ReLU()\n",
       "    )\n",
       "    (avg_pooling): AvgPool2d(kernel_size=(4, 8), stride=(4, 8), padding=0)\n",
       "    (fc1): Linear(in_features=128, out_features=128, bias=True)\n",
       "    (bn): BatchNorm1d(128, eps=1e-05, momentum=0.1, affine=True, track_running_stats=True)\n",
       "  )\n",
       "  (camera_head): CameraHead(\n",
       "    (fc1): Linear(in_features=128, out_features=128, bias=True)\n",
       "    (bn): BatchNorm1d(128, eps=1e-05, momentum=0.1, affine=True, track_running_stats=True)\n",
       "    (fc2): Linear(in_features=128, out_features=6, bias=True)\n",
       "  )\n",
       ")"
      ]
     },
     "execution_count": 2,
     "metadata": {},
     "output_type": "execute_result"
    }
   ],
   "source": [
    "root_dir = \"/home/nfs/inf6/data/datasets/Carla_Moritz/SyncAngel3/\"\n",
    "\n",
    "transforms = v2.Compose([\n",
    "    v2.Resize((256, 512), InterpolationMode.BILINEAR, antialias=False),\n",
    "    v2.ToDtype(torch.float, scale=True),\n",
    "])\n",
    "\n",
    "\n",
    "train_dataset = MovementDataset(root_dir, transform=transforms, split='train')\n",
    "valid_dataset = MovementDataset(root_dir, transform=transforms, split='validation')\n",
    "\n",
    "\n",
    "train_loader = torch.utils.data.DataLoader(train_dataset, batch_size=4, shuffle=True, num_workers=8)\n",
    "valid_loader = torch.utils.data.DataLoader(valid_dataset, batch_size=4, shuffle=True, num_workers=8)\n",
    "\n",
    "\n",
    "filter = Identity()\n",
    "model = EgoMotionFilter()\n",
    "model.to(device)\n",
    "model.eval()\n"
   ]
  },
  {
   "cell_type": "code",
   "execution_count": 3,
   "metadata": {},
   "outputs": [],
   "source": [
    "criterion = nn.MSELoss()\n",
    "optimizer = torch.optim.Adam(model.parameters(), lr=3e-4)\n",
    "scheduler = torch.optim.lr_scheduler.ReduceLROnPlateau(optimizer, mode=\"min\", factor=0.1, patience=10)"
   ]
  },
  {
   "cell_type": "code",
   "execution_count": 4,
   "metadata": {},
   "outputs": [
    {
     "name": "stderr",
     "output_type": "stream",
     "text": [
      "Epoch 1: loss 0.28383. :  11%|█         | 4689/42736 [19:33<2:38:38,  4.00it/s]  \n"
     ]
    },
    {
     "ename": "KeyboardInterrupt",
     "evalue": "",
     "output_type": "error",
     "traceback": [
      "\u001b[0;31m---------------------------------------------------------------------------\u001b[0m",
      "\u001b[0;31mKeyboardInterrupt\u001b[0m                         Traceback (most recent call last)",
      "Cell \u001b[0;32mIn[4], line 1\u001b[0m\n\u001b[0;32m----> 1\u001b[0m motion_trainer\u001b[38;5;241m.\u001b[39mtrain_model(model\u001b[38;5;241m=\u001b[39mmodel, optimizer\u001b[38;5;241m=\u001b[39moptimizer, scheduler\u001b[38;5;241m=\u001b[39mscheduler, criterion\u001b[38;5;241m=\u001b[39mcriterion, \n\u001b[1;32m      2\u001b[0m                     train_loader\u001b[38;5;241m=\u001b[39mtrain_loader, valid_loader\u001b[38;5;241m=\u001b[39mvalid_loader, num_epochs\u001b[38;5;241m=\u001b[39m\u001b[38;5;241m2\u001b[39m, writer\u001b[38;5;241m=\u001b[39mwriter, device\u001b[38;5;241m=\u001b[39mdevice, save_frequency\u001b[38;5;241m=\u001b[39m\u001b[38;5;241m1\u001b[39m)\n",
      "File \u001b[0;32m~/CudaLab-Video-Segmentation/motion_trainer.py:90\u001b[0m, in \u001b[0;36mtrain_model\u001b[0;34m(model, optimizer, scheduler, criterion, train_loader, valid_loader, num_epochs, writer, save_frequency, device)\u001b[0m\n\u001b[1;32m     85\u001b[0m \u001b[38;5;66;03m# validation epoch\u001b[39;00m\n\u001b[1;32m     86\u001b[0m model\u001b[38;5;241m.\u001b[39meval()  \u001b[38;5;66;03m# important for dropout and batch norms\u001b[39;00m\n\u001b[1;32m     87\u001b[0m loss \u001b[38;5;241m=\u001b[39m eval_model(\n\u001b[1;32m     88\u001b[0m         model\u001b[38;5;241m=\u001b[39mmodel, eval_loader\u001b[38;5;241m=\u001b[39mvalid_loader, criterion\u001b[38;5;241m=\u001b[39mcriterion,\n\u001b[1;32m     89\u001b[0m         device\u001b[38;5;241m=\u001b[39mdevice, epoch\u001b[38;5;241m=\u001b[39mepoch, writer\u001b[38;5;241m=\u001b[39mwriter\n\u001b[0;32m---> 90\u001b[0m     )\n\u001b[1;32m     92\u001b[0m val_loss\u001b[38;5;241m.\u001b[39mappend(loss)\n\u001b[1;32m     93\u001b[0m writer\u001b[38;5;241m.\u001b[39madd_scalar(\u001b[38;5;124mf\u001b[39m\u001b[38;5;124m'\u001b[39m\u001b[38;5;124mLoss/Valid\u001b[39m\u001b[38;5;124m'\u001b[39m, loss, global_step\u001b[38;5;241m=\u001b[39mepoch)\n",
      "File \u001b[0;32m~/CudaLab-Video-Segmentation/motion_trainer.py:31\u001b[0m, in \u001b[0;36mtrain_epoch\u001b[0;34m(model, train_loader, optimizer, criterion, epoch, device)\u001b[0m\n\u001b[1;32m     27\u001b[0m \u001b[38;5;66;03m# TODO: fix the loss\u001b[39;00m\n\u001b[1;32m     28\u001b[0m \u001b[38;5;66;03m# The losses are based on the relative transformation between the predicted and ground-truth motion\u001b[39;00m\n\u001b[1;32m     30\u001b[0m loss \u001b[38;5;241m=\u001b[39m criterion(torch\u001b[38;5;241m.\u001b[39mbmm(transform, p2), p1)\n\u001b[0;32m---> 31\u001b[0m loss_list\u001b[38;5;241m.\u001b[39mappend(loss\u001b[38;5;241m.\u001b[39mitem())\n\u001b[1;32m     33\u001b[0m \u001b[38;5;66;03m# Getting gradients w.r.t. parameters\u001b[39;00m\n\u001b[1;32m     34\u001b[0m loss\u001b[38;5;241m.\u001b[39mbackward()\n",
      "\u001b[0;31mKeyboardInterrupt\u001b[0m: "
     ]
    }
   ],
   "source": [
    "motion_trainer.train_model(model=model, optimizer=optimizer, scheduler=scheduler, criterion=criterion, \n",
    "                    train_loader=train_loader, valid_loader=valid_loader, num_epochs=2, writer=writer, device=device, save_frequency=1)"
   ]
  },
  {
   "cell_type": "code",
   "execution_count": null,
   "metadata": {},
   "outputs": [],
   "source": []
  },
  {
   "cell_type": "code",
   "execution_count": null,
   "metadata": {},
   "outputs": [],
   "source": []
  }
 ],
 "metadata": {
  "kernelspec": {
   "display_name": "base",
   "language": "python",
   "name": "python3"
  },
  "language_info": {
   "codemirror_mode": {
    "name": "ipython",
    "version": 3
   },
   "file_extension": ".py",
   "mimetype": "text/x-python",
   "name": "python",
   "nbconvert_exporter": "python",
   "pygments_lexer": "ipython3",
   "version": "3.11.7"
  }
 },
 "nbformat": 4,
 "nbformat_minor": 2
}
